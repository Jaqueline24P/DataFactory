{
 "cells": [
  {
   "cell_type": "markdown",
   "metadata": {
    "application/vnd.databricks.v1+cell": {
     "cellMetadata": {
      "byteLimit": 2048000,
      "rowLimit": 10000
     },
     "inputWidgets": {},
     "nuid": "436014ad-d2bd-4448-bfbf-a999ce0e6911",
     "showTitle": false,
     "title": ""
    }
   },
   "source": [
    "###CONEXIÓN CON STORAGE###"
   ]
  },
  {
   "cell_type": "code",
   "execution_count": 0,
   "metadata": {
    "application/vnd.databricks.v1+cell": {
     "cellMetadata": {},
     "inputWidgets": {},
     "nuid": "11a7a91b-7358-43b5-9d03-6c1747b38f15",
     "showTitle": false,
     "title": ""
    }
   },
   "outputs": [],
   "source": [
    "dbutils.fs.unmount(\"/mnt/proyectofinal\")"
   ]
  },
  {
   "cell_type": "code",
   "execution_count": 0,
   "metadata": {
    "application/vnd.databricks.v1+cell": {
     "cellMetadata": {
      "byteLimit": 2048000,
      "rowLimit": 10000
     },
     "inputWidgets": {},
     "nuid": "de557036-7659-4b2d-b532-ec90e8a81d83",
     "showTitle": false,
     "title": ""
    }
   },
   "outputs": [
    {
     "output_type": "display_data",
     "data": {
      "text/html": [
       "<style scoped>\n",
       "  .ansiout {\n",
       "    display: block;\n",
       "    unicode-bidi: embed;\n",
       "    white-space: pre-wrap;\n",
       "    word-wrap: break-word;\n",
       "    word-break: break-all;\n",
       "    font-family: \"Menlo\", \"Monaco\", \"Consolas\", \"Ubuntu Mono\", \"Source Code Pro\", monospace;\n",
       "    font-size: 13px;\n",
       "    color: #555;\n",
       "    margin-left: 4px;\n",
       "    line-height: 19px;\n",
       "  }\n",
       "</style>\n",
       "<div class=\"ansiout\">storageAccount: String = palominotstorage\n",
       "container: String = proyectofinal\n",
       "sasKey: String = ?sv=2022-11-02&amp;ss=bfqt&amp;srt=sco&amp;sp=rwdlacupyx&amp;se=2024-02-05T04:41:11Z&amp;st=2024-02-03T20:41:11Z&amp;spr=https&amp;sig=ihAywfFmdcLEXWDOEPJM%2FaYapcwvqsiZmZ9MXP0t1k8%3D\n",
       "conf: String = fs.azure.sas.proyectofinal.palominotstorage.blob.core.windows.net\n",
       "res8: Boolean = true\n",
       "</div>"
      ]
     },
     "metadata": {
      "application/vnd.databricks.v1+output": {
       "addedWidgets": {},
       "arguments": {},
       "data": "<div class=\"ansiout\">storageAccount: String = palominotstorage\ncontainer: String = proyectofinal\nsasKey: String = ?sv=2022-11-02&amp;ss=bfqt&amp;srt=sco&amp;sp=rwdlacupyx&amp;se=2024-02-05T04:41:11Z&amp;st=2024-02-03T20:41:11Z&amp;spr=https&amp;sig=ihAywfFmdcLEXWDOEPJM%2FaYapcwvqsiZmZ9MXP0t1k8%3D\nconf: String = fs.azure.sas.proyectofinal.palominotstorage.blob.core.windows.net\nres8: Boolean = true\n</div>",
       "datasetInfos": [],
       "metadata": {
        "isDbfsCommandResult": false
       },
       "removedWidgets": [],
       "type": "html"
      }
     },
     "output_type": "display_data"
    }
   ],
   "source": [
    "%scala\n",
    "\n",
    "val storageAccount = \"palominotstorage\" \n",
    "val container = \"proyectofinal\"\n",
    "val sasKey = \"?sv=2022-11-02&ss=bfqt&srt=sco&sp=rwdlacupyx&se=2024-02-18T10:31:10Z&st=2024-02-06T02:31:10Z&spr=https&sig=xrDxeVEJkd5Ub7G71MD7lo6TB8OkAVw3rgeHmGoec3c%3D\"\n",
    "\n",
    "val conf = \"fs.azure.sas.\" + container + \".\" + storageAccount + \".blob.core.windows.net\"\n",
    "\n",
    "dbutils.fs.mount(source=\"wasbs://\" + container + \"@\" + storageAccount + \".blob.core.windows.net\", mountPoint=\"/mnt/\" + container, extraConfigs = Map(conf -> sasKey))"
   ]
  },
  {
   "cell_type": "code",
   "execution_count": 0,
   "metadata": {
    "application/vnd.databricks.v1+cell": {
     "cellMetadata": {
      "byteLimit": 2048000,
      "rowLimit": 10000
     },
     "inputWidgets": {},
     "nuid": "88630ab8-0abd-499b-b2f0-fbb3a909ef7a",
     "showTitle": false,
     "title": ""
    }
   },
   "outputs": [],
   "source": [
    "##LEE INFORMACIÓN DE CAPA PLATA EN UN DATAFRAME##\n",
    "\n",
    "dfProducto = spark.read.parquet(\"/mnt/proyectofinal/Capaplata/Producto.parquet\")\n",
    "dfCategoria = spark.read.parquet(\"/mnt/proyectofinal/Capaplata/Categoria.parquet\")\n",
    "dfSubCategoria = spark.read.parquet(\"/mnt/proyectofinal/Capaplata/SubCategoria.parquet\")"
   ]
  },
  {
   "cell_type": "code",
   "execution_count": 0,
   "metadata": {
    "application/vnd.databricks.v1+cell": {
     "cellMetadata": {
      "byteLimit": 2048000,
      "rowLimit": 10000
     },
     "inputWidgets": {},
     "nuid": "b57b0e51-67ec-49e5-87a5-26a4587d68dc",
     "showTitle": false,
     "title": ""
    }
   },
   "outputs": [],
   "source": [
    "##CREAMOS VISTA TEMPORAL CON CADA DATAFRAME##\n",
    "\n",
    "dfProducto.createOrReplaceTempView(\"Producto\")\n",
    "dfCategoria.createOrReplaceTempView(\"Categoria\")\n",
    "dfSubCategoria.createOrReplaceTempView(\"SubCategoria\")"
   ]
  },
  {
   "cell_type": "code",
   "execution_count": 0,
   "metadata": {
    "application/vnd.databricks.v1+cell": {
     "cellMetadata": {
      "byteLimit": 2048000,
      "implicitDf": true,
      "rowLimit": 10000
     },
     "inputWidgets": {},
     "nuid": "7cfc9b00-0a13-47ef-a58d-9cb4ba50ae8c",
     "showTitle": false,
     "title": ""
    }
   },
   "outputs": [
    {
     "output_type": "display_data",
     "data": {
      "text/html": [
       "<style scoped>\n",
       "  .table-result-container {\n",
       "    max-height: 300px;\n",
       "    overflow: auto;\n",
       "  }\n",
       "  table, th, td {\n",
       "    border: 1px solid black;\n",
       "    border-collapse: collapse;\n",
       "  }\n",
       "  th, td {\n",
       "    padding: 5px;\n",
       "  }\n",
       "  th {\n",
       "    text-align: left;\n",
       "  }\n",
       "</style><div class='table-result-container'><table class='table-result'><thead style='background-color: white'><tr></tr></thead><tbody></tbody></table></div>"
      ]
     },
     "metadata": {
      "application/vnd.databricks.v1+output": {
       "addedWidgets": {},
       "aggData": [],
       "aggError": "",
       "aggOverflow": false,
       "aggSchema": [],
       "aggSeriesLimitReached": false,
       "aggType": "",
       "arguments": {},
       "columnCustomDisplayInfos": {},
       "data": [],
       "datasetInfos": [],
       "dbfsResultPath": null,
       "isJsonSchema": true,
       "metadata": {
        "dataframeName": null
       },
       "overflow": false,
       "plotOptions": {
        "customPlotOptions": {},
        "displayType": "table",
        "pivotAggregation": null,
        "pivotColumns": null,
        "xColumns": null,
        "yColumns": null
       },
       "removedWidgets": [],
       "schema": [],
       "type": "table"
      }
     },
     "output_type": "display_data"
    }
   ],
   "source": [
    "%sql\n",
    "\n",
    "CREATE OR REPLACE TEMP VIEW Fact_Producto AS\n",
    "SELECT P.Cod_Producto, P.Nombre AS NombreProducto, S.Nombre AS NombreSubCategoria, C.Nombre AS NombreCategoria\n",
    "FROM Producto AS P\n",
    "JOIN SubCategoria AS S\n",
    "ON P.Cod_SubCategoria = P.Cod_SubCategoria\n",
    "JOIN Categoria AS C\n",
    "ON S.Cod_Categoria = C.Cod_Categoria"
   ]
  },
  {
   "cell_type": "code",
   "execution_count": 0,
   "metadata": {
    "application/vnd.databricks.v1+cell": {
     "cellMetadata": {
      "byteLimit": 2048000,
      "rowLimit": 10000
     },
     "inputWidgets": {},
     "nuid": "96ea0aa0-5b70-415b-a8de-b725eee99806",
     "showTitle": false,
     "title": ""
    }
   },
   "outputs": [],
   "source": [
    "dfFactProducto = spark.table(\"Fact_Producto\")\n",
    "dfFactProducto.write.mode(\"overwrite\").parquet(\"/mnt/proyectofinal/Capaoro/FactProducto.parquet\")"
   ]
  },
  {
   "cell_type": "markdown",
   "metadata": {
    "application/vnd.databricks.v1+cell": {
     "cellMetadata": {
      "byteLimit": 2048000,
      "rowLimit": 10000
     },
     "inputWidgets": {},
     "nuid": "aeaf50d2-a465-4b85-9b9d-08f5216b47f9",
     "showTitle": false,
     "title": ""
    }
   },
   "source": [
    "###Desmontar Conexión###"
   ]
  },
  {
   "cell_type": "code",
   "execution_count": 0,
   "metadata": {
    "application/vnd.databricks.v1+cell": {
     "cellMetadata": {
      "byteLimit": 2048000,
      "rowLimit": 10000
     },
     "inputWidgets": {},
     "nuid": "aded5075-447a-4079-b890-46c520c977c5",
     "showTitle": false,
     "title": ""
    }
   },
   "outputs": [
    {
     "output_type": "stream",
     "name": "stdout",
     "output_type": "stream",
     "text": [
      "/mnt/proyectofinal/ has been unmounted.\n"
     ]
    },
    {
     "output_type": "execute_result",
     "data": {
      "text/plain": [
       "True"
      ]
     },
     "execution_count": 35,
     "metadata": {},
     "output_type": "execute_result"
    }
   ],
   "source": [
    "dbutils.fs.unmount(\"/mnt/proyectofinal/\")"
   ]
  }
 ],
 "metadata": {
  "application/vnd.databricks.v1+notebook": {
   "dashboards": [],
   "language": "python",
   "notebookMetadata": {
    "mostRecentlyExecutedCommandWithImplicitDF": {
     "commandId": 2232064106874660,
     "dataframes": [
      "_sqldf"
     ]
    },
    "pythonIndentUnit": 4
   },
   "notebookName": "Transferir_datos_a_Capaoro",
   "widgets": {}
  }
 },
 "nbformat": 4,
 "nbformat_minor": 0
}
